{
 "cells": [
  {
   "cell_type": "markdown",
   "source": [
    "# Why MLOps Is Vital To Your Development Team"
   ],
   "metadata": {
    "collapsed": false
   },
   "id": "5f9f8a284b2ed3e3"
  },
  {
   "cell_type": "markdown",
   "source": [
    "### ¿Qués es un MLops?\n",
    "Es la manera de poder trabajar de manera eficiente y segura con las técnicas de Machine Learning.\n",
    "\n",
    "Poder trabajar con estas técnicas, ayudará a resolver problemas que antes hubieran sido muy complicados a poder hacer con las técnicas nuevas que implementa Machine Learning.\n",
    "\n",
    "El propósito de la práctica MLOps es aumentar la rapidez y la confianza con la que su equipo puede lanzar nuevas capacidades de Machine Learning.\n",
    "\n",
    "### Beneficios\n",
    "La técnicas que se usan con Machine Learning y las técnicas de Software tradicional tienen una gran diferencia en sus técnicas y es el manejo de los **datos**.\n",
    "\n",
    "### Evita cuellos de botella\n",
    "Ayuda a que todo el equipo que trabaja en esta área este todo el tiempo en sincronía. Todos tienen la misma versión, documentación, etc.\n",
    "\n",
    "### Productividad\n",
    "Este tipo de trabajos ayuda a que la salud mental de los trabajadores se encuentre estable y no haya fatigas. Y que no entren en una etapa de desarrollo pesada y se estanquen.\n",
    "\n",
    "# Conclusión\n",
    "Invertir o conocer este tipo de trabajos puede ser una jugada, pero invertirlo puede ser innovador y óptimo al momento de resolver problemas que no avancen o que sean imposibles con las técnicas que se usaban anteriormente. Machine Learning vino a innovar en muchos ámbitos de trabajo y que también que hasta para los mismos programadores se sientan mejor y tengan más productividad.\n",
    "\n",
    "\n",
    "\n",
    " \n"
   ],
   "metadata": {
    "collapsed": false
   },
   "id": "74da58d0411c971e"
  }
 ],
 "metadata": {
  "kernelspec": {
   "display_name": "Python 3",
   "language": "python",
   "name": "python3"
  },
  "language_info": {
   "codemirror_mode": {
    "name": "ipython",
    "version": 2
   },
   "file_extension": ".py",
   "mimetype": "text/x-python",
   "name": "python",
   "nbconvert_exporter": "python",
   "pygments_lexer": "ipython2",
   "version": "2.7.6"
  }
 },
 "nbformat": 4,
 "nbformat_minor": 5
}
